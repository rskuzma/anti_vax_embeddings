{
 "cells": [
  {
   "cell_type": "markdown",
   "metadata": {},
   "source": [
    "# Combine multiple dfs with scraped text"
   ]
  },
  {
   "cell_type": "code",
   "execution_count": 1,
   "metadata": {},
   "outputs": [],
   "source": [
    "import pandas as pd\n",
    "import pickle"
   ]
  },
  {
   "cell_type": "code",
   "execution_count": 2,
   "metadata": {},
   "outputs": [],
   "source": [
    "DATA_PATH = './data/cleaned/'\n",
    "df_name_list = ['x_jan_31_CovidVaxTweetsWithGSDMMTopics_10000_rows_1543_processed_1543_articles_1182_left.pkl', \n",
    "                'x_feb_13_CovidVaxTweetsWithGSDMMTopicsMayJune_400000_skip_10000_rows_2397_processed_2397_articles_1367_left.pkl', \n",
    "                'x_feb_29_CovidVaxTweetsWithGSDMMTopics_100000_skip_10000_rows_1548_processed_1548_articles_500_left.pkl', \n",
    "                'x_apr_01_CovidVaxTweetsWithGSDMMTopicsMayJune_285000_skip_10000_rows_1047_processed_1047_articles_532_left.pkl', \n",
    "                'x_apr_10_CovidVaxTweetsWithGSDMMTopicsMayJune_250000_skip_10000_rows_1302_processed_1302_articles_557_left.pkl', \n",
    "                'x_may_01_CovidVaxTweetsWithGSDMMTopicsMayJune_170000_skip_10000_rows_1962_processed_1962_articles_1243_left.pkl', \n",
    "                'x_may_15_CovidVaxTweetsWithGSDMMTopicsMayJune_100000_skip_10000_rows_1762_processed_1762_articles_1176_left.pkl', \n",
    "                'x_may_31_CovidVaxTweetsWithGSDMMTopicsMayJune_10000_rows_1339_processed_1339_articles_897_left.pkl']\n",
    "\n",
    "# not actually used\n",
    "df_dates = ['jan_31', \n",
    "            'feb_13', \n",
    "            'feb_29', \n",
    "            'apr_01', \n",
    "            'apr_10', \n",
    "            'may_01', \n",
    "            'may_15', \n",
    "            'may_31']\n",
    "\n",
    "# 7454 total articles\n"
   ]
  },
  {
   "cell_type": "code",
   "execution_count": 3,
   "metadata": {},
   "outputs": [],
   "source": [
    "# check if df sizes match for concatenation\n",
    "def df_col_shape_mismatch(df_name_list: list):\n",
    "    col_list = []\n",
    "    shapes = []\n",
    "    for i in range(len(df_name_list)):\n",
    "        with open(DATA_PATH + df_name_list[i], 'rb') as f:\n",
    "            df = pickle.load(f)\n",
    "#             print('df #{}  /  shape  / {}'.format(i, df.shape))\n",
    "            shapes.append(df.shape)\n",
    "            col_list.append(list(df.columns))\n",
    "\n",
    "\n",
    "    num_columns = shapes[0][1]\n",
    "    mismatch = False\n",
    "    for i in shapes:\n",
    "        if num_columns != i[1]:\n",
    "            mismatch = True\n",
    "        else:\n",
    "            pass\n",
    "    if mismatch == True:\n",
    "#         print('data frames have different number of columns')\n",
    "        return True\n",
    "    else:\n",
    "#         print('Number of columns matches!')\n",
    "        return False\n",
    "\n",
    "        \n",
    "\n",
    "\n",
    "def df_col_names_mismatch(df_name_list: list):\n",
    "    col_list = []\n",
    "    \n",
    "    for i in range(len(df_name_list)):\n",
    "        with open(DATA_PATH + df_name_list[i], 'rb') as f:\n",
    "            df = pickle.load(f)\n",
    "            col_list.append(list(df.columns))\n",
    "    \n",
    "    # check if names of columns match\n",
    "    mismatch_cols = False\n",
    "    col_names = col_list[0]\n",
    "    for j in range(len(col_list)):\n",
    "            if col_list[j] == col_names:\n",
    "                pass\n",
    "            else:\n",
    "#                 print('Column names do not match')\n",
    "                mismatch_cols = True\n",
    "\n",
    "    if mismatch_cols == True:\n",
    "#         print('There are mismatched columns')\n",
    "        return True\n",
    "    else:\n",
    "#         print('All column names match. Ready to concatenate')\n",
    "        return False\n",
    "            \n",
    "\n",
    "\n",
    "def concatenate_dfs(df_name_list: list):\n",
    "    for i in range(len(df_name_list)):\n",
    "        with open(DATA_PATH + df_name_list[i], 'rb') as f:\n",
    "            if i == 0:\n",
    "                df = pickle.load(f)\n",
    "            else:\n",
    "                temp = pickle.load(f)\n",
    "                df = pd.concat([df, temp], ignore_index=True)\n",
    "    return df"
   ]
  },
  {
   "cell_type": "code",
   "execution_count": 4,
   "metadata": {},
   "outputs": [],
   "source": [
    "if (df_col_shape_mismatch(df_name_list) == False) and (df_col_names_mismatch(df_name_list) == False):\n",
    "    df = concatenate_dfs(df_name_list)"
   ]
  },
  {
   "cell_type": "code",
   "execution_count": 5,
   "metadata": {},
   "outputs": [],
   "source": [
    "with open(DATA_PATH + 'concatenated_df.pkl', 'wb') as f:\n",
    "    pickle.dump(df, f)"
   ]
  },
  {
   "cell_type": "code",
   "execution_count": null,
   "metadata": {},
   "outputs": [],
   "source": []
  }
 ],
 "metadata": {
  "kernelspec": {
   "display_name": "env_anti_vax",
   "language": "python",
   "name": "env"
  },
  "language_info": {
   "codemirror_mode": {
    "name": "ipython",
    "version": 3
   },
   "file_extension": ".py",
   "mimetype": "text/x-python",
   "name": "python",
   "nbconvert_exporter": "python",
   "pygments_lexer": "ipython3",
   "version": "3.8.2"
  }
 },
 "nbformat": 4,
 "nbformat_minor": 4
}
